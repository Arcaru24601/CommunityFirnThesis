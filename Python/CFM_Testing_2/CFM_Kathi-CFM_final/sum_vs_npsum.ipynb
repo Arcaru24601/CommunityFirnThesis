{
 "cells": [
  {
   "cell_type": "code",
   "execution_count": 1,
   "id": "7320f643",
   "metadata": {},
   "outputs": [],
   "source": [
    "l = [1, 2, 3, 4]"
   ]
  },
  {
   "cell_type": "code",
   "execution_count": 2,
   "id": "c8782575",
   "metadata": {},
   "outputs": [],
   "source": [
    "summ = sum(l)"
   ]
  },
  {
   "cell_type": "code",
   "execution_count": 3,
   "id": "780f5b0c",
   "metadata": {},
   "outputs": [],
   "source": [
    "import numpy as np\n",
    "a = np.arange(1, 5, 1)"
   ]
  },
  {
   "cell_type": "code",
   "execution_count": 4,
   "id": "181e2fc5",
   "metadata": {},
   "outputs": [],
   "source": [
    "summ2 = a.sum()"
   ]
  },
  {
   "cell_type": "code",
   "execution_count": 5,
   "id": "5828ef1d",
   "metadata": {},
   "outputs": [],
   "source": [
    "summ3 = np.sum(a)"
   ]
  },
  {
   "cell_type": "code",
   "execution_count": 6,
   "id": "0207b66b",
   "metadata": {},
   "outputs": [],
   "source": [
    "a = np.zeros([2,3,4])"
   ]
  },
  {
   "cell_type": "code",
   "execution_count": 7,
   "id": "b14e20e4",
   "metadata": {},
   "outputs": [
    {
     "name": "stdout",
     "output_type": "stream",
     "text": [
      "24\n"
     ]
    }
   ],
   "source": [
    "size_a = np.size(a)\n",
    "print(size_a)"
   ]
  },
  {
   "cell_type": "code",
   "execution_count": 8,
   "id": "ef549b4c",
   "metadata": {},
   "outputs": [
    {
     "name": "stdout",
     "output_type": "stream",
     "text": [
      "24\n"
     ]
    }
   ],
   "source": [
    "size_a = np.prod(np.shape(a))\n",
    "print(size_a)\n"
   ]
  },
  {
   "cell_type": "code",
   "execution_count": 9,
   "id": "0ecd9595",
   "metadata": {},
   "outputs": [
    {
     "name": "stdout",
     "output_type": "stream",
     "text": [
      "(2, 3, 4)\n"
     ]
    }
   ],
   "source": [
    "print(np.shape(a))"
   ]
  },
  {
   "cell_type": "code",
   "execution_count": 10,
   "id": "6815e32b",
   "metadata": {},
   "outputs": [],
   "source": [
    "from numba import njit\n",
    "\n",
    "@njit\n",
    "def product(A):\n",
    "    return np.prod(np.shape(A))\n",
    "\n",
    "def product2(A):\n",
    "    shape = np.shape(A)\n",
    "    size = 1\n",
    "    for i in range(np.shape(shape)[0]):\n",
    "        size *= shape[i]\n",
    "    return size\n",
    "    "
   ]
  },
  {
   "cell_type": "code",
   "execution_count": 11,
   "id": "0f311ebd",
   "metadata": {},
   "outputs": [
    {
     "name": "stdout",
     "output_type": "stream",
     "text": [
      "24\n"
     ]
    }
   ],
   "source": [
    "b = product2(a)\n",
    "print(b)"
   ]
  },
  {
   "cell_type": "code",
   "execution_count": null,
   "id": "357d1709",
   "metadata": {},
   "outputs": [],
   "source": []
  }
 ],
 "metadata": {
  "kernelspec": {
   "display_name": "Python 3",
   "language": "python",
   "name": "python3"
  },
  "language_info": {
   "codemirror_mode": {
    "name": "ipython",
    "version": 3
   },
   "file_extension": ".py",
   "mimetype": "text/x-python",
   "name": "python",
   "nbconvert_exporter": "python",
   "pygments_lexer": "ipython3",
   "version": "3.9.7"
  }
 },
 "nbformat": 4,
 "nbformat_minor": 5
}
